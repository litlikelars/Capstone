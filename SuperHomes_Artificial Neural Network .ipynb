{
 "cells": [
  {
   "cell_type": "code",
   "execution_count": 2,
   "metadata": {},
   "outputs": [],
   "source": [
    "import numpy as np\n",
    "import pandas as pd\n",
    "import seaborn as sns\n",
    "import matplotlib.pyplot as plt\n",
    "from sklearn.preprocessing import StandardScaler\n",
    "from sklearn.model_selection import train_test_split\n",
    "from sklearn.decomposition import PCA\n",
    "from keras.models import Sequential\n",
    "from keras.layers import Dense\n",
    "\n",
    "from sklearn.metrics import mean_squared_error as mse\n",
    "from sklearn import metrics\n",
    "from sklearn.metrics import mean_squared_error as mse\n",
    "from sklearn.model_selection import cross_val_score,KFold\n",
    "from sklearn.metrics import r2_score,mean_squared_error\n",
    "from sklearn.model_selection import cross_val_score\n",
    "from sklearn.model_selection import RepeatedKFold\n",
    "from sklearn.model_selection import GridSearchCV\n",
    "from sklearn.model_selection import RandomizedSearchCV"
   ]
  },
  {
   "cell_type": "code",
   "execution_count": 3,
   "metadata": {},
   "outputs": [],
   "source": [
    "data = pd.read_csv('House_5_hour_heating_season.csv')"
   ]
  },
  {
   "cell_type": "code",
   "execution_count": 4,
   "metadata": {},
   "outputs": [],
   "source": [
    "data = data.drop(data.loc[data['Date'] < '2019-09-30 00:00:00'].index)\n",
    "df = data.drop(data.loc[data['Date'] > '2020-04-13 01:00:00'].index)"
   ]
  },
  {
   "cell_type": "code",
   "execution_count": 5,
   "metadata": {},
   "outputs": [],
   "source": [
    "# Dropping Date Column as it does not contribute to the Model \n",
    "\n",
    "data.drop(['Date'], axis=1, inplace=True)"
   ]
  },
  {
   "cell_type": "markdown",
   "metadata": {},
   "source": [
    "## Feature Selection"
   ]
  },
  {
   "cell_type": "code",
   "execution_count": 7,
   "metadata": {},
   "outputs": [],
   "source": [
    "y = data.filter(['COP'])"
   ]
  },
  {
   "cell_type": "code",
   "execution_count": 8,
   "metadata": {},
   "outputs": [],
   "source": [
    "x = data.copy()\n",
    "x.drop(['COP'], axis=1, inplace=True)"
   ]
  },
  {
   "cell_type": "code",
   "execution_count": 10,
   "metadata": {},
   "outputs": [],
   "source": [
    "PredictorScaler=StandardScaler()\n",
    "TargetVarScaler=StandardScaler()"
   ]
  },
  {
   "cell_type": "code",
   "execution_count": 11,
   "metadata": {},
   "outputs": [],
   "source": [
    "PredictorScalerFit=PredictorScaler.fit(x)\n",
    "TargetVarScalerFit=TargetVarScaler.fit(y)"
   ]
  },
  {
   "cell_type": "code",
   "execution_count": 13,
   "metadata": {},
   "outputs": [],
   "source": [
    "X=PredictorScalerFit.transform(x)\n",
    "y=TargetVarScalerFit.transform(y)"
   ]
  },
  {
   "cell_type": "code",
   "execution_count": 9,
   "metadata": {},
   "outputs": [],
   "source": [
    "X_train, X_test, Y_train, Y_test = train_test_split(x, y, test_size=0.20)"
   ]
  },
  {
   "cell_type": "code",
   "execution_count": 14,
   "metadata": {},
   "outputs": [
    {
     "data": {
      "image/png": "[encoded data removed]",
      "text/plain": [
       "<Figure size 432x288 with 1 Axes>"
      ]
     },
     "metadata": {
      "needs_background": "light"
     },
     "output_type": "display_data"
    }
   ],
   "source": [
    "# Dimensionality Reduction\n",
    "\n",
    "pca = PCA().fit(data)\n",
    "plt.plot(np.cumsum(pca.explained_variance_ratio_))\n",
    "plt.xlabel('Number of Components')\n",
    "plt.ylabel('Explained Variance by Model');"
   ]
  },
  {
   "cell_type": "code",
   "execution_count": 15,
   "metadata": {},
   "outputs": [
    {
     "name": "stdout",
     "output_type": "stream",
     "text": [
      "Original shape:    (3308, 11)\n",
      "Transformed shape: (3308, 6)\n"
     ]
    }
   ],
   "source": [
    "pca = PCA(n_components=6)\n",
    "pca.fit(x)\n",
    "x_pca = pca.transform(x)\n",
    "\n",
    "print(\"Original shape:   \", x.shape) # 11 Features \n",
    "print(\"Transformed shape:\", x_pca.shape) # 6 Feature"
   ]
  },
  {
   "cell_type": "markdown",
   "metadata": {},
   "source": [
    "## ANN Modelling "
   ]
  },
  {
   "cell_type": "code",
   "execution_count": 16,
   "metadata": {},
   "outputs": [],
   "source": [
    "x_train, x_test, y_train, y_test = train_test_split(x_pca, y, test_size=0.20)"
   ]
  },
  {
   "cell_type": "code",
   "execution_count": 53,
   "metadata": {},
   "outputs": [],
   "source": [
    "# create ANN model\n",
    "model = Sequential()"
   ]
  },
  {
   "cell_type": "code",
   "execution_count": 54,
   "metadata": {},
   "outputs": [],
   "source": [
    "# Defining the Input layer and FIRST hidden layer, both are same!\n",
    "model.add(Dense(units=4, input_dim=6, kernel_initializer='normal', activation='relu'))"
   ]
  },
  {
   "cell_type": "code",
   "execution_count": 55,
   "metadata": {},
   "outputs": [],
   "source": [
    "# Defining the Second layer of the model\n",
    "# after the first layer we don't have to specify input_dim as keras configure it automatically\n",
    "model.add(Dense(units=4, kernel_initializer='normal', activation='tanh'))"
   ]
  },
  {
   "cell_type": "code",
   "execution_count": 56,
   "metadata": {},
   "outputs": [],
   "source": [
    "# The output neuron is a single fully connected node \n",
    "# Since we will be predicting a single number\n",
    "model.add(Dense(1, kernel_initializer='normal'))"
   ]
  },
  {
   "cell_type": "code",
   "execution_count": 57,
   "metadata": {},
   "outputs": [],
   "source": [
    "# Compiling the model\n",
    "model.compile(loss='mean_squared_error', optimizer='adam')"
   ]
  },
  {
   "cell_type": "code",
   "execution_count": 58,
   "metadata": {},
   "outputs": [
    {
     "name": "stdout",
     "output_type": "stream",
     "text": [
      "Epoch 1/50\n",
      "133/133 [==============================] - 11s 775us/step - loss: 0.9662\n",
      "Epoch 2/50\n",
      "133/133 [==============================] - 0s 760us/step - loss: 0.6797\n",
      "Epoch 3/50\n",
      "133/133 [==============================] - 0s 667us/step - loss: 0.5959\n",
      "Epoch 4/50\n",
      "133/133 [==============================] - 0s 960us/step - loss: 0.5409\n",
      "Epoch 5/50\n",
      "133/133 [==============================] - 0s 866us/step - loss: 0.5343\n",
      "Epoch 6/50\n",
      "133/133 [==============================] - 0s 754us/step - loss: 0.4773\n",
      "Epoch 7/50\n",
      "133/133 [==============================] - 0s 721us/step - loss: 0.4191\n",
      "Epoch 8/50\n",
      "133/133 [==============================] - 0s 782us/step - loss: 0.4084\n",
      "Epoch 9/50\n",
      "133/133 [==============================] - 0s 988us/step - loss: 0.3870\n",
      "Epoch 10/50\n",
      "133/133 [==============================] - 0s 1ms/step - loss: 0.3693\n",
      "Epoch 11/50\n",
      "133/133 [==============================] - 0s 810us/step - loss: 0.3975\n",
      "Epoch 12/50\n",
      "133/133 [==============================] - 0s 967us/step - loss: 0.3953\n",
      "Epoch 13/50\n",
      "133/133 [==============================] - 0s 948us/step - loss: 0.3522\n",
      "Epoch 14/50\n",
      "133/133 [==============================] - 0s 1ms/step - loss: 0.4137\n",
      "Epoch 15/50\n",
      "133/133 [==============================] - 0s 1ms/step - loss: 0.3679\n",
      "Epoch 16/50\n",
      "133/133 [==============================] - 0s 930us/step - loss: 0.3692\n",
      "Epoch 17/50\n",
      "133/133 [==============================] - 0s 968us/step - loss: 0.3506\n",
      "Epoch 18/50\n",
      "133/133 [==============================] - 0s 859us/step - loss: 0.3769\n",
      "Epoch 19/50\n",
      "133/133 [==============================] - 0s 1ms/step - loss: 0.3617\n",
      "Epoch 20/50\n",
      "133/133 [==============================] - 0s 1ms/step - loss: 0.3752\n",
      "Epoch 21/50\n",
      "133/133 [==============================] - 0s 832us/step - loss: 0.3357\n",
      "Epoch 22/50\n",
      "133/133 [==============================] - 0s 791us/step - loss: 0.3709\n",
      "Epoch 23/50\n",
      "133/133 [==============================] - 0s 692us/step - loss: 0.3668\n",
      "Epoch 24/50\n",
      "133/133 [==============================] - 0s 875us/step - loss: 0.3430\n",
      "Epoch 25/50\n",
      "133/133 [==============================] - 0s 1ms/step - loss: 0.3589\n",
      "Epoch 26/50\n",
      "133/133 [==============================] - 0s 971us/step - loss: 0.3532\n",
      "Epoch 27/50\n",
      "133/133 [==============================] - 0s 835us/step - loss: 0.3450\n",
      "Epoch 28/50\n",
      "133/133 [==============================] - 0s 775us/step - loss: 0.3732\n",
      "Epoch 29/50\n",
      "133/133 [==============================] - 0s 768us/step - loss: 0.3334\n",
      "Epoch 30/50\n",
      "133/133 [==============================] - 0s 892us/step - loss: 0.3206\n",
      "Epoch 31/50\n",
      "133/133 [==============================] - 0s 914us/step - loss: 0.3499\n",
      "Epoch 32/50\n",
      "133/133 [==============================] - 0s 867us/step - loss: 0.3173\n",
      "Epoch 33/50\n",
      "133/133 [==============================] - 0s 812us/step - loss: 0.3338\n",
      "Epoch 34/50\n",
      "133/133 [==============================] - 0s 814us/step - loss: 0.3417\n",
      "Epoch 35/50\n",
      "133/133 [==============================] - 0s 801us/step - loss: 0.3506\n",
      "Epoch 36/50\n",
      "133/133 [==============================] - 0s 1ms/step - loss: 0.3545\n",
      "Epoch 37/50\n",
      "133/133 [==============================] - 0s 1ms/step - loss: 0.3326\n",
      "Epoch 38/50\n",
      "133/133 [==============================] - 0s 902us/step - loss: 0.3168\n",
      "Epoch 39/50\n",
      "133/133 [==============================] - 0s 856us/step - loss: 0.3302\n",
      "Epoch 40/50\n",
      "133/133 [==============================] - 0s 818us/step - loss: 0.3184\n",
      "Epoch 41/50\n",
      "133/133 [==============================] - 0s 856us/step - loss: 0.3093\n",
      "Epoch 42/50\n",
      "133/133 [==============================] - 0s 885us/step - loss: 0.3351\n",
      "Epoch 43/50\n",
      "133/133 [==============================] - 0s 973us/step - loss: 0.3181\n",
      "Epoch 44/50\n",
      "133/133 [==============================] - 0s 920us/step - loss: 0.3669\n",
      "Epoch 45/50\n",
      "133/133 [==============================] - 0s 855us/step - loss: 0.3465\n",
      "Epoch 46/50\n",
      "133/133 [==============================] - 0s 867us/step - loss: 0.3182\n",
      "Epoch 47/50\n",
      "133/133 [==============================] - 0s 828us/step - loss: 0.3384\n",
      "Epoch 48/50\n",
      "133/133 [==============================] - 0s 738us/step - loss: 0.3137\n",
      "Epoch 49/50\n",
      "133/133 [==============================] - 0s 719us/step - loss: 0.3011\n",
      "Epoch 50/50\n",
      "133/133 [==============================] - 0s 815us/step - loss: 0.3512\n"
     ]
    },
    {
     "data": {
      "text/plain": [
       "<keras.callbacks.History at 0x7f9a13b01df0>"
      ]
     },
     "execution_count": 58,
     "metadata": {},
     "output_type": "execute_result"
    }
   ],
   "source": [
    "# Fitting the ANN to the Training set\n",
    "model.fit(x_train, y_train , batch_size = 20, epochs = 50, verbose=1)"
   ]
  },
  {
   "cell_type": "code",
   "execution_count": 59,
   "metadata": {},
   "outputs": [
    {
     "ename": "NameError",
     "evalue": "name 'Predictors' is not defined",
     "output_type": "error",
     "traceback": [
      "\u001b[0;31m---------------------------------------------------------------------------\u001b[0m",
      "\u001b[0;31mNameError\u001b[0m                                 Traceback (most recent call last)",
      "\u001b[0;32m<ipython-input-59-96a27f11b8c2>\u001b[0m in \u001b[0;36m<module>\u001b[0;34m\u001b[0m\n\u001b[1;32m     11\u001b[0m \u001b[0mTest_Data\u001b[0m\u001b[0;34m=\u001b[0m\u001b[0mPredictorScalerFit\u001b[0m\u001b[0;34m.\u001b[0m\u001b[0minverse_transform\u001b[0m\u001b[0;34m(\u001b[0m\u001b[0mX_test\u001b[0m\u001b[0;34m)\u001b[0m\u001b[0;34m\u001b[0m\u001b[0;34m\u001b[0m\u001b[0m\n\u001b[1;32m     12\u001b[0m \u001b[0;34m\u001b[0m\u001b[0m\n\u001b[0;32m---> 13\u001b[0;31m \u001b[0mTestingData\u001b[0m\u001b[0;34m=\u001b[0m\u001b[0mpd\u001b[0m\u001b[0;34m.\u001b[0m\u001b[0mDataFrame\u001b[0m\u001b[0;34m(\u001b[0m\u001b[0mdata\u001b[0m\u001b[0;34m=\u001b[0m\u001b[0mTest_Data\u001b[0m\u001b[0;34m,\u001b[0m \u001b[0mcolumns\u001b[0m\u001b[0;34m=\u001b[0m\u001b[0mPredictors\u001b[0m\u001b[0;34m)\u001b[0m\u001b[0;34m\u001b[0m\u001b[0;34m\u001b[0m\u001b[0m\n\u001b[0m\u001b[1;32m     14\u001b[0m \u001b[0mTestingData\u001b[0m\u001b[0;34m[\u001b[0m\u001b[0;34m'Price'\u001b[0m\u001b[0;34m]\u001b[0m\u001b[0;34m=\u001b[0m\u001b[0my_test_orig\u001b[0m\u001b[0;34m\u001b[0m\u001b[0;34m\u001b[0m\u001b[0m\n\u001b[1;32m     15\u001b[0m \u001b[0mTestingData\u001b[0m\u001b[0;34m[\u001b[0m\u001b[0;34m'PredictedPrice'\u001b[0m\u001b[0;34m]\u001b[0m\u001b[0;34m=\u001b[0m\u001b[0mPredictions\u001b[0m\u001b[0;34m\u001b[0m\u001b[0;34m\u001b[0m\u001b[0m\n",
      "\u001b[0;31mNameError\u001b[0m: name 'Predictors' is not defined"
     ]
    }
   ],
   "source": [
    "# Generating Predictions on testing data\n",
    "Predictions=model.predict(x_test)\n",
    " \n",
    "# Scaling the predicted Price data back to original price scale\n",
    "Predictions=TargetVarScalerFit.inverse_transform(Predictions)\n",
    " \n",
    "# Scaling the y_test Price data back to original price scale\n",
    "y_test_orig=TargetVarScalerFit.inverse_transform(y_test)\n",
    " \n",
    "# Scaling the test data back to original scale\n",
    "Test_Data=PredictorScalerFit.inverse_transform(X_test)\n",
    " \n",
    "TestingData=pd.DataFrame(data=Test_Data, columns=Predictors)\n",
    "TestingData['Price']=y_test_orig\n",
    "TestingData['PredictedPrice']=Predictions\n",
    "TestingData.head()"
   ]
  },
  {
   "cell_type": "code",
   "execution_count": null,
   "metadata": {},
   "outputs": [],
   "source": []
  }
 ],
 "metadata": {
  "kernelspec": {
   "display_name": "Python 3",
   "language": "python",
   "name": "python3"
  },
  "language_info": {
   "codemirror_mode": {
    "name": "ipython",
    "version": 3
   },
   "file_extension": ".py",
   "mimetype": "text/x-python",
   "name": "python",
   "nbconvert_exporter": "python",
   "pygments_lexer": "ipython3",
   "version": "3.8.8"
  }
 },
 "nbformat": 4,
 "nbformat_minor": 4
}
